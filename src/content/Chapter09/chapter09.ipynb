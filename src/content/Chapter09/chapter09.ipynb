{
 "cells": [
  {
   "cell_type": "markdown",
   "metadata": {},
   "source": [
    "第一部分\n",
    "导入我们所需要的模块\n",
    "数据集下载及一些前置工作"
   ]
  },
  {
   "cell_type": "code",
   "execution_count": 1,
   "metadata": {},
   "outputs": [
    {
     "name": "stderr",
     "output_type": "stream",
     "text": [
      "C:\\WangXin\\Study\\Anaconda3\\envs\\TensorFlow\\lib\\site-packages\\h5py\\__init__.py:36: FutureWarning: Conversion of the second argument of issubdtype from `float` to `np.floating` is deprecated. In future, it will be treated as `np.float64 == np.dtype(float).type`.\n",
      "  from ._conv import register_converters as _register_converters\n"
     ]
    }
   ],
   "source": [
    "import matplotlib.pyplot as plt #2D绘图库\n",
    "import tensorflow as tf\n",
    "import numpy as np  #用于数值矩阵计算\n",
    "import time\n",
    "from datetime import timedelta  #关于时间\n",
    "import os"
   ]
  },
  {
   "cell_type": "markdown",
   "metadata": {},
   "source": [
    "使用sys方法导入之前的文件"
   ]
  },
  {
   "cell_type": "code",
   "execution_count": 2,
   "metadata": {},
   "outputs": [],
   "source": [
    "import sys\n",
    "sys.path.append(r\"C:\\Users\\36412\\Desktop\\学习\\deep-learning-源代码\\deep-learning-源代码\\deep-learning-by-example-master\\Chapter09\")\n"
   ]
  },
  {
   "cell_type": "markdown",
   "metadata": {},
   "source": [
    "这些是第8章的一些文件"
   ]
  },
  {
   "cell_type": "code",
   "execution_count": 3,
   "metadata": {},
   "outputs": [],
   "source": [
    "import inception\n",
    "#我们可以使用该脚本下载处理过程CIFAR-10数据集\n",
    "import cifar10\n",
    "#导入cifar10中的num_classes方法\n",
    "from cifar10 import num_classes"
   ]
  },
  {
   "cell_type": "code",
   "execution_count": 4,
   "metadata": {},
   "outputs": [
    {
     "name": "stdout",
     "output_type": "stream",
     "text": [
      "Data has apparently already been downloaded and unpacked.\n"
     ]
    }
   ],
   "source": [
    "'''\n",
    "将路径存入cifar10.data_path\n",
    "下一行代码即：若该路径下有该文件则返回\n",
    "Data has apparently already been downloaded and unpacked.\n",
    "若没有则自动下载\n",
    "'''\n",
    "cifar10.data_path = \"data/CIFAR-10/\"\n",
    "cifar10.maybe_download_and_extract()"
   ]
  },
  {
   "cell_type": "markdown",
   "metadata": {},
   "source": [
    "查看CIFAR10数据的分类"
   ]
  },
  {
   "cell_type": "code",
   "execution_count": 5,
   "metadata": {},
   "outputs": [
    {
     "name": "stdout",
     "output_type": "stream",
     "text": [
      "Loading data: data/CIFAR-10/cifar-10-batches-py/batches.meta\n"
     ]
    }
   ],
   "source": [
    "class_names = cifar10.load_class_names()"
   ]
  },
  {
   "cell_type": "markdown",
   "metadata": {},
   "source": [
    "返回images,clss_numbers 是 整形，以及它们对应的一个-One-Hot的编码\n",
    "下载训练数据："
   ]
  },
  {
   "cell_type": "code",
   "execution_count": 6,
   "metadata": {},
   "outputs": [
    {
     "name": "stdout",
     "output_type": "stream",
     "text": [
      "Loading data: data/CIFAR-10/cifar-10-batches-py/data_batch_1\n",
      "Loading data: data/CIFAR-10/cifar-10-batches-py/data_batch_2\n",
      "Loading data: data/CIFAR-10/cifar-10-batches-py/data_batch_3\n",
      "Loading data: data/CIFAR-10/cifar-10-batches-py/data_batch_4\n",
      "Loading data: data/CIFAR-10/cifar-10-batches-py/data_batch_5\n"
     ]
    }
   ],
   "source": [
    "training_images, training_cls_integers, trainig_one_hot_labels = cifar10.load_training_data()"
   ]
  },
  {
   "cell_type": "markdown",
   "metadata": {},
   "source": [
    "下载测试数据："
   ]
  },
  {
   "cell_type": "code",
   "execution_count": 7,
   "metadata": {},
   "outputs": [
    {
     "name": "stdout",
     "output_type": "stream",
     "text": [
      "Loading data: data/CIFAR-10/cifar-10-batches-py/test_batch\n"
     ]
    }
   ],
   "source": [
    "testing_images, testing_cls_integers, testing_one_hot_labels = cifar10.load_test_data()"
   ]
  },
  {
   "cell_type": "markdown",
   "metadata": {},
   "source": [
    "让我们看看CIFAR-10中训练和测试集的分布:"
   ]
  },
  {
   "cell_type": "code",
   "execution_count": 76,
   "metadata": {},
   "outputs": [
    {
     "name": "stdout",
     "output_type": "stream",
     "text": [
      "-Number of images in the training set:\t\t50000\n",
      "-Number of images in the testing set:\t\t10000\n"
     ]
    }
   ],
   "source": [
    "print(\"-Number of images in the training set:\\t\\t{}\".format(len(training_images)))\n",
    "print(\"-Number of images in the testing set:\\t\\t{}\".format(len(testing_images)))"
   ]
  },
  {
   "cell_type": "markdown",
   "metadata": {},
   "source": [
    "让我们定义一些函数，使我们能够探索数据集。能在一个网格中绘制一组九幅图像:"
   ]
  },
  {
   "cell_type": "code",
   "execution_count": 9,
   "metadata": {},
   "outputs": [],
   "source": [
    "def plot_imgs(imgs, true_class, predicted_class=None):\n",
    "    assert len(imgs) == len(true_class)\n",
    "\n",
    "    # 为9个字节创建一个占位符\n",
    "    fig, axes = plt.subplots(3, 3) \n",
    "\n",
    "    # 调整间距\n",
    "    if predicted_class is None:\n",
    "        hspace = 0.3\n",
    "    else:\n",
    "        hspace = 0.6\n",
    "    fig.subplots_adjust(hspace=hspace, wspace=0.3)\n",
    "\n",
    "    for i, ax in enumerate(axes.flat):\n",
    "        # 可能只有不到9张图片，确保不会崩溃\n",
    "        if i < len(imgs):\n",
    "            # 画图\n",
    "            ax.imshow(imgs[i],\n",
    "                      interpolation='nearest')\n",
    "\n",
    "            # 从class_names数组中获取真实类的实际名称\n",
    "            true_class_name = class_names[true_class[i]]\n",
    "\n",
    "            #显示预测类和真实类的标签\n",
    "            if predicted_class is None:\n",
    "                xlabel = \"True: {0}\".format(true_class_name)\n",
    "            else:\n",
    "                # 预测类的名称\n",
    "                predicted_class_name = class_names[predicted_class[i]]\n",
    "\n",
    "                xlabel = \"True: {0}\\nPred: {1}\".format(true_class_name, predicted_class_name)\n",
    "\n",
    "            ax.set_xlabel(xlabel)\n",
    "\n",
    "        # 从图画中移除ticks.\n",
    "        ax.set_xticks([])\n",
    "        ax.set_yticks([])\n",
    "\n",
    "    plt.show()"
   ]
  },
  {
   "cell_type": "markdown",
   "metadata": {},
   "source": [
    "接下来：让我们继续并用图像显示一些来自测试集的图像以及它们对应的实际类:"
   ]
  },
  {
   "cell_type": "code",
   "execution_count": 10,
   "metadata": {},
   "outputs": [],
   "source": [
    "# 获得测试集中的前9个图像\n",
    "imgs = testing_images[0:9]\n",
    "\n",
    "#获得真实类的整数表现形式\n",
    "true_class = testing_cls_integers[0:9]"
   ]
  },
  {
   "cell_type": "code",
   "execution_count": 11,
   "metadata": {
    "scrolled": true
   },
   "outputs": [
    {
     "data": {
      "image/png": "[encoded data removed]",
      "text/plain": [
       "<Figure size 432x288 with 9 Axes>"
      ]
     },
     "metadata": {},
     "output_type": "display_data"
    }
   ],
   "source": [
    "#画图\n",
    "plot_imgs(imgs=imgs, true_class=true_class)"
   ]
  },
  {
   "cell_type": "markdown",
   "metadata": {},
   "source": [
    "# 第二部分\n",
    "## 接下来我们要做的是初始模型传递值\n",
    "\n",
    "\n"
   ]
  },
  {
   "cell_type": "code",
   "execution_count": 12,
   "metadata": {},
   "outputs": [
    {
     "name": "stdout",
     "output_type": "stream",
     "text": [
      "Downloading Inception v3 Model ...\n",
      "Data has apparently already been downloaded and unpacked.\n"
     ]
    }
   ],
   "source": [
    "'''\n",
    "如前所述，我们将在ImageNet数据集上使用预先训练好的初始化模型。\n",
    "所以，我们需要从互联网上下载这个预先训练好的模型\n",
    "'''\n",
    "#下载预训练的inception v3模型\n",
    "inception.maybe_download()"
   ]
  },
  {
   "cell_type": "code",
   "execution_count": 13,
   "metadata": {
    "scrolled": true
   },
   "outputs": [
    {
     "data": {
      "text/plain": [
       "'\\ndef maybe_download():\\n    \"\"\"\\n    如果还没有的话，可以从互联网上下载Inception模型\\n    存在于data_dir中。这个文件大约有85 MB\\n    \"\"\"\\n\\n    print(\"Downloading Inception v3 Model ...\")\\n    download.maybe_download_and_extract(url=data_url, download_dir=data_dir)\\n\\n'"
      ]
     },
     "execution_count": 13,
     "metadata": {},
     "output_type": "execute_result"
    }
   ],
   "source": [
    "'''\n",
    "def maybe_download():\n",
    "    \"\"\"\n",
    "    如果还没有的话，可以从互联网上下载Inception模型\n",
    "    存在于data_dir中。这个文件大约有85 MB\n",
    "    \"\"\"\n",
    "\n",
    "    print(\"Downloading Inception v3 Model ...\")\n",
    "    download.maybe_download_and_extract(url=data_url, download_dir=data_dir)\n",
    "\n",
    "'''"
   ]
  },
  {
   "cell_type": "markdown",
   "metadata": {},
   "source": [
    "我们将加载初始模型，以便将其用作CIFAR-10图像的特征提取器"
   ]
  },
  {
   "cell_type": "markdown",
   "metadata": {},
   "source": [
    "这样我们就可以用预先训练过的权重将其最小化，并为我们的模型定制"
   ]
  },
  {
   "cell_type": "code",
   "execution_count": 14,
   "metadata": {},
   "outputs": [],
   "source": [
    "inception_model = inception.Inception()"
   ]
  },
  {
   "cell_type": "markdown",
   "metadata": {},
   "source": [
    "如前所述，计算CIFAR-10数据集的传输值需要一些时间，\n",
    "因此我们需要将它们缓存起来以备将来使用。\n",
    "值得庆幸的是，JODFQUJPO模块中有一个助手函数可以帮助我们做到这一点\n",
    "接下来，我们需要为缓存的训练和测试文件设置文件路径"
   ]
  },
  {
   "cell_type": "code",
   "execution_count": 15,
   "metadata": {},
   "outputs": [],
   "source": [
    "from inception import transfer_values_cache"
   ]
  },
  {
   "cell_type": "code",
   "execution_count": 16,
   "metadata": {},
   "outputs": [
    {
     "name": "stdout",
     "output_type": "stream",
     "text": [
      "data/CIFAR-10/inception_cifar10_train.pkl\n",
      "data/CIFAR-10/inception_cifar10_test.pkl\n",
      "Cifar-10训练图像的初始化处理转换值…\n"
     ]
    }
   ],
   "source": [
    "file_path_train = os.path.join(cifar10.data_path, \n",
    "                               'inception_cifar10_train.pkl')\n",
    "file_path_test = os.path.join(cifar10.data_path, \n",
    "                              'inception_cifar10_test.pkl')\n",
    "print(file_path_train,file_path_test,sep='\\n')\n",
    "print(\"Cifar-10训练图像的初始化处理转换值…\")"
   ]
  },
  {
   "cell_type": "code",
   "execution_count": 17,
   "metadata": {},
   "outputs": [
    {
     "name": "stdout",
     "output_type": "stream",
     "text": [
      "- Data loaded from cache-file: data/CIFAR-10/inception_cifar10_train.pkl\n",
      "- Data loaded from cache-file: data/CIFAR-10/inception_cifar10_test.pkl\n"
     ]
    }
   ],
   "source": [
    "'''\n",
    "首先，我们需要缩放img来满足初始模型的要求，因为模型要求所有像素都在0到255之间，\n",
    "我们的CIFAR-10像素的训练示例在0.0到1.0之间\n",
    "'''\n",
    "imgs_scaled = training_images * 255.0\n",
    "\n",
    "'''\n",
    "下面这个函数是检查我们的训练图像的传输值是否已经计算并加载，如果没有则计算并保存它们\n",
    "'''\n",
    "transfer_values_training = transfer_values_cache(cache_path=file_path_train,\n",
    "                                              images=imgs_scaled,\n",
    "                                              model=inception_model)\n",
    "\n",
    "'''\n",
    "与训练数据相同，首先，我们需要缩放img来满足初始模型的要求，要所有像素都在0到255之间，\n",
    "我们的CIFAR-10像素的训练示例在0.0到1.0之间\n",
    "'''\n",
    "imgs_scaled = testing_images * 255.0\n",
    "\n",
    "'''\n",
    "检查我们的训练图像的传输值是否已经计算并加载，如果没有则计算并保存它们。\n",
    "'''\n",
    "transfer_values_testing = transfer_values_cache(cache_path=file_path_test,\n",
    "                                             images=imgs_scaled,\n",
    "                                             model=inception_model)"
   ]
  },
  {
   "cell_type": "markdown",
   "metadata": {},
   "source": [
    "<hr>如前所述，在CIFAR-10数据集的训练集中，我们有50,000张图像。\n",
    "<br>接下来查看这些图像的传输值的shape。在这个训练集中，应该有2048张图片"
   ]
  },
  {
   "cell_type": "code",
   "execution_count": 18,
   "metadata": {},
   "outputs": [
    {
     "data": {
      "text/plain": [
       "(50000, 2048)"
      ]
     },
     "execution_count": 18,
     "metadata": {},
     "output_type": "execute_result"
    }
   ],
   "source": [
    "transfer_values_training.shape"
   ]
  },
  {
   "cell_type": "markdown",
   "metadata": {},
   "source": [
    "对测试集做同样的处理"
   ]
  },
  {
   "cell_type": "code",
   "execution_count": 19,
   "metadata": {},
   "outputs": [
    {
     "data": {
      "text/plain": [
       "(10000, 2048)"
      ]
     },
     "execution_count": 19,
     "metadata": {},
     "output_type": "execute_result"
    }
   ],
   "source": [
    "transfer_values_testing.shape"
   ]
  },
  {
   "cell_type": "markdown",
   "metadata": {},
   "source": [
    "<hr>为了直观地理解传输值的外观，\n",
    "我们还需要定义一个函数，来绘制我们想要查看的图\n",
    "显示训练或测试集的特定图像的传输值"
   ]
  },
  {
   "cell_type": "code",
   "execution_count": 20,
   "metadata": {},
   "outputs": [],
   "source": [
    "def plot_transferValues(ind):\n",
    "    print(\"原始输入图像:\")\n",
    "\n",
    "    # 在测试集的索引处绘制图像.\n",
    "    plt.imshow(testing_images[ind], interpolation='nearest')\n",
    "    plt.show()\n",
    "\n",
    "    print(\"使用Inception model传输值:\")\n",
    "\n",
    "    #将传输值可视化为图像.\n",
    "    transferValues_img = transfer_values_testing[ind]\n",
    "    transferValues_img = transferValues_img.reshape((32, 64))\n",
    "\n",
    "    # 绘制传输值图像\n",
    "    plt.imshow(transferValues_img, interpolation='nearest', cmap='Reds')\n",
    "    plt.show()"
   ]
  },
  {
   "cell_type": "code",
   "execution_count": 21,
   "metadata": {},
   "outputs": [
    {
     "name": "stdout",
     "output_type": "stream",
     "text": [
      "原始输入图像:\n"
     ]
    },
    {
     "data": {
      "image/png": "[encoded data removed]",
      "text/plain": [
       "<Figure size 432x288 with 1 Axes>"
      ]
     },
     "metadata": {},
     "output_type": "display_data"
    },
    {
     "name": "stdout",
     "output_type": "stream",
     "text": [
      "使用Inception model传输值:\n"
     ]
    },
    {
     "data": {
      "image/png": "[encoded data removed]",
      "text/plain": [
       "<Figure size 432x288 with 1 Axes>"
      ]
     },
     "metadata": {},
     "output_type": "display_data"
    }
   ],
   "source": [
    "plot_transferValues(ind=15)"
   ]
  },
  {
   "cell_type": "markdown",
   "metadata": {},
   "source": [
    "<hr> \n",
    "## 接下来进行传递值分析\n",
    "\n",
    "在本节中，我们将对刚刚从训练图像中获得的传输值进行一些分析。<br>分析的目的是:看看这些传输值是否足以对CIFAR-10中的图像进行分类"
   ]
  },
  {
   "cell_type": "markdown",
   "metadata": {},
   "source": [
    "每个输入的图像有2048个传输值。为了绘制这些传递值并对其进行进一步的分析，\n",
    "我们可以使用scikit-learn中的主成分分析(PCA)等降维技术。<br>\n",
    "我们将把传输值的维数从2,048减少到2，以便能够将其可视化，\n",
    "并看看它们是否适合用于区分不同类别的cifar 10"
   ]
  },
  {
   "cell_type": "code",
   "execution_count": 22,
   "metadata": {},
   "outputs": [],
   "source": [
    "from sklearn.decomposition import PCA"
   ]
  },
  {
   "cell_type": "markdown",
   "metadata": {},
   "source": [
    "接下来，我们需要创建一个PCA对象，其中组件的数量只有2个"
   ]
  },
  {
   "cell_type": "code",
   "execution_count": 23,
   "metadata": {},
   "outputs": [],
   "source": [
    "pca_obj = PCA(n_components=2)"
   ]
  },
  {
   "cell_type": "markdown",
   "metadata": {},
   "source": [
    "将传输值从2048减少到2需要很多时间，<br>\n",
    "所以我们只要对50000张图像中的3000张进行子集划分即可："
   ]
  },
  {
   "cell_type": "code",
   "execution_count": 24,
   "metadata": {},
   "outputs": [],
   "source": [
    "subset_transferValues = transfer_values_training[0:3000]"
   ]
  },
  {
   "cell_type": "markdown",
   "metadata": {},
   "source": [
    "得到这些图片的类号:"
   ]
  },
  {
   "cell_type": "code",
   "execution_count": 25,
   "metadata": {},
   "outputs": [],
   "source": [
    "cls_integers = testing_cls_integers[0:3000]"
   ]
  },
  {
   "cell_type": "markdown",
   "metadata": {},
   "source": [
    "我们可以通过打印传输值的Shape来再次检查这个子集是否正确划分:\n",
    "## 第一种降维方法"
   ]
  },
  {
   "cell_type": "code",
   "execution_count": 26,
   "metadata": {},
   "outputs": [
    {
     "data": {
      "text/plain": [
       "(3000, 2048)"
      ]
     },
     "execution_count": 26,
     "metadata": {},
     "output_type": "execute_result"
    }
   ],
   "source": [
    "subset_transferValues.shape"
   ]
  },
  {
   "cell_type": "markdown",
   "metadata": {},
   "source": [
    "接下来，我们使用PCA对象将传输值从2,048减少到2:"
   ]
  },
  {
   "cell_type": "code",
   "execution_count": 27,
   "metadata": {},
   "outputs": [],
   "source": [
    "reduced_transferValues = pca_obj.fit_transform(subset_transferValues)"
   ]
  },
  {
   "cell_type": "code",
   "execution_count": 28,
   "metadata": {},
   "outputs": [
    {
     "data": {
      "text/plain": [
       "(3000, 2)"
      ]
     },
     "execution_count": 28,
     "metadata": {},
     "output_type": "execute_result"
    }
   ],
   "source": [
    "reduced_transferValues.shape"
   ]
  },
  {
   "cell_type": "markdown",
   "metadata": {},
   "source": [
    "在将传递值的维数降为2之后，让我们绘制这些值"
   ]
  },
  {
   "cell_type": "code",
   "execution_count": 29,
   "metadata": {},
   "outputs": [],
   "source": [
    "#导入颜色映射图，以用不同的颜色绘制每个类。\n",
    "import matplotlib.cm as color_map"
   ]
  },
  {
   "cell_type": "code",
   "execution_count": 30,
   "metadata": {},
   "outputs": [],
   "source": [
    "def plot_reduced_transferValues(transferValues, cls_integers):\n",
    "    #为每一个类创建一个颜色不同的颜色图\n",
    "    c_map = color_map.rainbow(np.linspace(0.0, 1.0, num_classes))\n",
    "\n",
    "    # 获得每个样本的颜色\n",
    "    colors = c_map[cls_integers]\n",
    "\n",
    "    # 获得X,y的值\n",
    "    x_val = transferValues[:, 0]\n",
    "    y_val = transferValues[:, 1]\n",
    "\n",
    "    # 在散点图中绘制传输值\n",
    "    plt.scatter(x_val, y_val, color=colors)\n",
    "    plt.show()\n"
   ]
  },
  {
   "cell_type": "markdown",
   "metadata": {},
   "source": [
    "在这里，我们将绘制训练集中子集的转移值。<br>我们在CIFAR-10中有10个类，所以我们将用不同的颜色绘制它们对应的转移值。<br>如下图所示，<br>传输值根据相应的类进行分组。<br>组间重叠是因为PCA的约简过程不能正确分离传递值:"
   ]
  },
  {
   "cell_type": "code",
   "execution_count": 31,
   "metadata": {},
   "outputs": [
    {
     "data": {
      "image/png": "[encoded data removed]",
      "text/plain": [
       "<Figure size 432x288 with 1 Axes>"
      ]
     },
     "metadata": {},
     "output_type": "display_data"
    }
   ],
   "source": [
    "plot_reduced_transferValues(reduced_transferValues, cls_integers)"
   ]
  },
  {
   "cell_type": "markdown",
   "metadata": {},
   "source": [
    "<hr>接下来这是另一种降维数方法：<br>使用另一种名为t-SNE的降维方法进一步分析传递值:"
   ]
  },
  {
   "cell_type": "code",
   "execution_count": 32,
   "metadata": {},
   "outputs": [],
   "source": [
    "from sklearn.manifold import TSNE"
   ]
  },
  {
   "cell_type": "markdown",
   "metadata": {},
   "source": [
    "这一次，我们要降低传递值的维数，但最终降到50而不是之前的2：\n",
    "## 第二种降维方法"
   ]
  },
  {
   "cell_type": "code",
   "execution_count": 33,
   "metadata": {},
   "outputs": [],
   "source": [
    "pca_obj = PCA(n_components=50)\n",
    "transferValues_50d = pca_obj.fit_transform(subset_transferValues)\n",
    "#.fit_transform<==>先调用fit 再调用transform\n",
    "# fit方法的主要工作是获取特征信息和目标值信息\n",
    "# transform方法主要用来对特征进行转换"
   ]
  },
  {
   "cell_type": "code",
   "execution_count": 34,
   "metadata": {},
   "outputs": [
    {
     "data": {
      "text/plain": [
       "(3000, 50)"
      ]
     },
     "execution_count": 34,
     "metadata": {},
     "output_type": "execute_result"
    }
   ],
   "source": [
    "transferValues_50d.shape"
   ]
  },
  {
   "cell_type": "markdown",
   "metadata": {},
   "source": [
    "<hr><hr>接下来，我们再叠加到要使用的新降维技术里，将PCA过程的输出输入到里面:"
   ]
  },
  {
   "cell_type": "code",
   "execution_count": 35,
   "metadata": {},
   "outputs": [],
   "source": [
    "tsne_obj = TSNE(n_components=2) #n_components设置为2，也就是将多维矩阵降到2维\n",
    "reduced_transferValues = tsne_obj.fit_transform(transferValues_50d) "
   ]
  },
  {
   "cell_type": "markdown",
   "metadata": {},
   "source": [
    "再检查一下它的形状是否正确"
   ]
  },
  {
   "cell_type": "code",
   "execution_count": 36,
   "metadata": {},
   "outputs": [
    {
     "data": {
      "text/plain": [
       "(3000, 2)"
      ]
     },
     "execution_count": 36,
     "metadata": {},
     "output_type": "execute_result"
    }
   ],
   "source": [
    "reduced_transferValues.shape"
   ]
  },
  {
   "cell_type": "markdown",
   "metadata": {},
   "source": [
    "<hr>再使用t-SNE方法绘制减小后的传递值。<br>如下图所示，t-SNE能够比PCA更好地分离分组传输值。<br>从这个分析中则可得出的结论：我们通过将输入的图像输入到预训练的初始模型中而得到的传输值可以用来将训练图像分离到10个类中。<br>从下图中可以看到少许重叠，所以这种分离不是100%准确的。<br>但是我们可以通过对预先训练好的模型进行微调来消除这种重叠:"
   ]
  },
  {
   "cell_type": "code",
   "execution_count": 37,
   "metadata": {},
   "outputs": [
    {
     "data": {
      "image/png": "[encoded data removed]",
      "text/plain": [
       "<Figure size 432x288 with 1 Axes>"
      ]
     },
     "metadata": {},
     "output_type": "display_data"
    }
   ],
   "source": [
    "plot_reduced_transferValues(reduced_transferValues, cls_integers)"
   ]
  },
  {
   "cell_type": "markdown",
   "metadata": {},
   "source": [
    "### 现在我们有了从训练图像中提取的传输值\n",
    "<br>我们知道这些值在某种程度上能够区分CIFAR-10的不同类。<br>接下来，我们需要构建一个线性分类器，并将这些传递值提供给它来执行实际的分类。\n",
    "#### 创建分离器，进行分类"
   ]
  },
  {
   "cell_type": "markdown",
   "metadata": {},
   "source": [
    "## 模型和训练\n",
    "### 模型"
   ]
  },
  {
   "cell_type": "markdown",
   "metadata": {},
   "source": [
    "因此，让我们从指定输入占位符变量开始，这些变量将被输入到神经网络模型中。<br>第一个输入变量的形状（将包含提取的传输值）是[None,transfer_len]。<br>第二占位符变量将以一个One-Hot格式保存训练集的实际类标签。"
   ]
  },
  {
   "cell_type": "code",
   "execution_count": 38,
   "metadata": {},
   "outputs": [
    {
     "data": {
      "text/plain": [
       "tensorflow.python.framework.ops.Tensor"
      ]
     },
     "execution_count": 38,
     "metadata": {},
     "output_type": "execute_result"
    }
   ],
   "source": [
    "transferValues_arrLength = inception_model.transfer_len   # 第14行对实例inception_modeld使用其中的transfer_len属性\n",
    "# tensorflow的设计理念称之为计算流图，在编写程序时，首先构筑整个系统的graph，代码并不会直接生效，这一点和python的其他数值计算库\n",
    "# （如Numpy等）不同，graph为静态的。然后，在实际的运行时，启动一个session，程序才会真正的运行。\n",
    "# 这样做的好处就是：避免反复地切换底层程序实际运行的上下文，tensorflow帮你优化整个系统的代码。我们知道，很多python程序的底层为\n",
    "# C语言或者其他语言，执行一行脚本，就要切换一次，是有成本的，tensorflow通过计算流图的方式，帮你优化整个session需要执行的代码，\n",
    "# 还是很有优势的。\n",
    "# 所以placeholder()函数是在神经网络构建graph的时候在模型中的占位，此时并没有把要输入的数据传入模型，它只会分配必要的内存。\n",
    "# 等建立session，在会话中，运行模型的时候通过feed_dict()函数向占位符喂入数据\n",
    "# 所有关于图变量的赋值和计算都要通过tf.Session的run来进行\n",
    "\n",
    "input_values = tf.placeholder(tf.float32, shape=[None, transferValues_arrLength], \n",
    "                              name='input_values')\n",
    "y_actual = tf.placeholder(tf.float32, shape=[None, num_classes], \n",
    "                          name='y_actual')\n",
    "type(y_actual)"
   ]
  },
  {
   "cell_type": "markdown",
   "metadata": {},
   "source": [
    "我们还可以通过定义另一个占位符变量，得到每个类的对应整数值（从1到10):"
   ]
  },
  {
   "cell_type": "code",
   "execution_count": 39,
   "metadata": {},
   "outputs": [],
   "source": [
    "y_actual_cls = tf.argmax(y_actual, axis=1)\n",
    "# 返回的是y_actual中的最大值的索引号，如果y_actual是一个向量，那就返回一个值，如果是一个矩阵，那就返回一个向量，\n",
    "# 这个向量的每一个维度都是相对应矩阵行的最大值元素的索引号"
   ]
  },
  {
   "cell_type": "code",
   "execution_count": 40,
   "metadata": {},
   "outputs": [
    {
     "name": "stdout",
     "output_type": "stream",
     "text": [
      "[4]\n",
      "[2 1]\n"
     ]
    }
   ],
   "source": [
    "'''\n",
    "解释：\n",
    "''' \n",
    "A = [[1,3,4,5,6]]\n",
    "B = [[1,3,4], [2,4,1]]\n",
    " \n",
    "with tf.Session() as sess:\n",
    "    print(sess.run(tf.argmax(A, 1)))\n",
    "    print(sess.run(tf.argmax(B, 1)))"
   ]
  },
  {
   "cell_type": "markdown",
   "metadata": {},
   "source": [
    "而我们需要构建一个实际的分类神经网络来获取这些输入的占位符并生成预测类:"
   ]
  },
  {
   "cell_type": "code",
   "execution_count": 41,
   "metadata": {},
   "outputs": [],
   "source": [
    "def new_weights(shape):\n",
    "    return tf.Variable(tf.truncated_normal(shape, stddev=0.05)) \n",
    "    # tf.Variable(initializer,name),参数initializer是初始化参数，name是可自定义的变量名称,返回一个张量\n",
    "        # 使用Variable（）创建的变量可以用作图中其他操作的输入\n",
    "\n",
    "    # tf.truncated_normal(shape, mean, stddev) :shape表示生成张量的维度，mean是均值，stddev是标准差。\n",
    "    # 这个函数产生正太分布，均值和标准差自己设定,最终返回一个shape维的随机数\n",
    "    \n",
    "    #  tf.constant(value,dtype=None,shape=None,name=’Const’) \n",
    "#     创建一个常量tensor，按照给出value来赋值，用shape来指定其形状。value可以是一个数，也可以是一个list。\n",
    "    # tensor 是张量即N维数组\n",
    "#     如果是一个数，那么这个常量中所有值得按该数来赋值。 \n",
    "#     如果是list,那么len(value)一定要小于等于shape展开后的长度。赋值时，先将value中的值逐个存入。不够的部分，\n",
    "#     则全部存入value的最后一个值。"
   ]
  },
  {
   "cell_type": "code",
   "execution_count": 42,
   "metadata": {},
   "outputs": [
    {
     "name": "stdout",
     "output_type": "stream",
     "text": [
      "ab: [0.05 0.05 0.05 0.05 0.05 0.05 0.05 0.05 0.05 0.05]\n",
      "cd: [[0.05 0.05]\n",
      " [0.05 0.05]\n",
      " [0.05 0.05]\n",
      " [0.05 0.05]\n",
      " [0.05 0.05]\n",
      " [0.05 0.05]\n",
      " [0.05 0.05]\n",
      " [0.05 0.05]\n",
      " [0.05 0.05]\n",
      " [0.05 0.05]]\n",
      "ef: 0\n",
      "gh: [[1.0065348  1.0376278 ]\n",
      " [0.9659973  1.0463276 ]\n",
      " [1.0320997  1.0491649 ]\n",
      " [1.0274178  0.97174495]]\n"
     ]
    }
   ],
   "source": [
    "ab = tf.Variable(tf.constant(0.05, shape=[10]),name='ab')\n",
    "cd = tf.Variable(tf.constant(0.05, shape=[10,2]),name='ab')\n",
    "ef = tf.Variable(initial_value=0,\n",
    "                          name='step', trainable=False)\n",
    "gh = tf.truncated_normal([4,2],mean=1,stddev=0.05)\n",
    "with tf.Session() as sess:\n",
    "    sess.run(tf.global_variables_initializer()) #这行代码的官方解释是 初始化模型的参数\n",
    "    print('ab: {}'.format(sess.run(ab)))\n",
    "    print('cd: {}'.format(sess.run(cd)))\n",
    "    print('ef: {}'.format(sess.run(ef)))\n",
    "    print('gh: {}'.format(sess.run(gh)))"
   ]
  },
  {
   "cell_type": "code",
   "execution_count": 43,
   "metadata": {},
   "outputs": [],
   "source": [
    "def new_biases(length):\n",
    "    return tf.Variable(tf.constant(0.05, shape=[length]))\n",
    "\n"
   ]
  },
  {
   "cell_type": "code",
   "execution_count": 44,
   "metadata": {},
   "outputs": [],
   "source": [
    "def new_fc_layer(input,          # \n",
    "                 num_inputs,     # Num. inputs from prev. layer.\n",
    "                 num_outputs,    # Num. outputs.\n",
    "                 use_relu=True): # Use Rectified Linear Unit (ReLU)?\n",
    "\n",
    "    # 创建新的权重和偏差值\n",
    "    weights = new_weights(shape=[num_inputs, num_outputs])\n",
    "    biases = new_biases(length=num_outputs)\n",
    "\n",
    "    # 计算该层作为输入和权重的矩阵乘法，然后添加偏值。\n",
    "    layer = tf.matmul(input, weights) + biases\n",
    "\n",
    "    # Use ReLU?\n",
    "    if use_relu:\n",
    "        layer = tf.nn.relu(layer)\n",
    "\n",
    "    return layer"
   ]
  },
  {
   "cell_type": "markdown",
   "metadata": {},
   "source": [
    "第一个 全连接层"
   ]
  },
  {
   "cell_type": "code",
   "execution_count": 45,
   "metadata": {},
   "outputs": [],
   "source": [
    "layer_fc1 = new_fc_layer(input=input_values,\n",
    "                             num_inputs=2048,\n",
    "                             num_outputs=1024,\n",
    "                             use_relu=True)"
   ]
  },
  {
   "cell_type": "markdown",
   "metadata": {},
   "source": [
    "第二个 fully-connected 层"
   ]
  },
  {
   "cell_type": "code",
   "execution_count": 46,
   "metadata": {},
   "outputs": [],
   "source": [
    "layer_fc2 = new_fc_layer(input=layer_fc1,\n",
    "                             num_inputs=1024,\n",
    "                             num_outputs=num_classes,\n",
    "                             use_relu=False)"
   ]
  },
  {
   "cell_type": "markdown",
   "metadata": {},
   "source": [
    "预测类标签："
   ]
  },
  {
   "cell_type": "code",
   "execution_count": 47,
   "metadata": {},
   "outputs": [],
   "source": [
    "y_predicted = tf.nn.softmax(layer_fc2) #将其值压缩到0-1之间"
   ]
  },
  {
   "cell_type": "markdown",
   "metadata": {},
   "source": [
    "每个图像分类的交叉熵："
   ]
  },
  {
   "cell_type": "code",
   "execution_count": 48,
   "metadata": {},
   "outputs": [
    {
     "name": "stdout",
     "output_type": "stream",
     "text": [
      "WARNING:tensorflow:From <ipython-input-48-ce593c3f2b0f>:2: softmax_cross_entropy_with_logits (from tensorflow.python.ops.nn_ops) is deprecated and will be removed in a future version.\n",
      "Instructions for updating:\n",
      "\n",
      "Future major versions of TensorFlow will allow gradients to flow\n",
      "into the labels input on backprop by default.\n",
      "\n",
      "See @{tf.nn.softmax_cross_entropy_with_logits_v2}.\n",
      "\n"
     ]
    }
   ],
   "source": [
    "cross_entropy = \\\n",
    "    tf.nn.softmax_cross_entropy_with_logits(logits=layer_fc2,\n",
    "                                                labels=y_actual)\n",
    "# 在计算loss的时候，最常见的一句话就是tf.nn.softmax_cross_entropy_with_logits，\n",
    "\n",
    "# 首先明确一点，loss是代价值，也就是我们要最小化的值"
   ]
  },
  {
   "cell_type": "markdown",
   "metadata": {},
   "source": [
    "### tf.nn.softmax_cross_entropy_with_logits(logits, labels, name=None)\n",
    "除去name参数用以指定该操作的name，与方法有关的一共两个参数：<br>\n",
    "第一个参数logits：就是神经网络最后一层的输出，如果有batch的话，它的大小就是[batchsize，num_classes]，单样本的话，大小就是num_classes\n",
    "<br>执行流程大概分为两步：\n",
    "\n",
    "第一步:是先对网络最后一层的输出做一个softmax，这一步通常是求取输出属于某一类的概率，对于单样本而言，输出就是一个num_classes大小的向量（[Y1，Y2,Y3...]其中Y1，Y2，Y3...分别代表了是属于该类的概率）\n",
    "\n",
    "\n",
    "第二步:是softmax的输出向量[Y1，Y2,Y3...]和样本的实际标签做一个交叉熵\n",
    "\n",
    "\n",
    "注意！！！这个函数的返回值并不是一个数，而是一个向量，如果要求交叉熵，我们要再做一步tf.reduce_sum操作,就是对向量里面所有元素求和，最后才得到，如果求loss，则要做一步tf.reduce_mean操作，对向量求均值！"
   ]
  },
  {
   "cell_type": "markdown",
   "metadata": {},
   "source": [
    "<hr>损失 aka. 成本计量<br>\n",
    "这是必须最小化的标量值:\n"
   ]
  },
  {
   "cell_type": "code",
   "execution_count": 49,
   "metadata": {},
   "outputs": [],
   "source": [
    "loss = tf.reduce_mean(cross_entropy)"
   ]
  },
  {
   "cell_type": "markdown",
   "metadata": {},
   "source": [
    "模型建立好了"
   ]
  },
  {
   "cell_type": "markdown",
   "metadata": {},
   "source": [
    "然后，我们需要定义一个优化准则，用于分类器的训练。在这个实现中，我们将使用AdamOptimizer。<br>实现Adam的优化器<br>这个分类器的输出将是一个含10个概率值的数组，对应于CIFAR-10数据集中的类数。<br>然后，我们将对这个数组应用argmax操作，将最大得分的类分配给这个输入示例:"
   ]
  },
  {
   "cell_type": "code",
   "execution_count": 50,
   "metadata": {},
   "outputs": [
    {
     "data": {
      "text/plain": [
       "<tf.Variable 'step_1:0' shape=() dtype=int32_ref>"
      ]
     },
     "execution_count": 50,
     "metadata": {},
     "output_type": "execute_result"
    }
   ],
   "source": [
    "step = tf.Variable(initial_value=0,\n",
    "                          name='step', trainable=False)\n",
    "step"
   ]
  },
  {
   "cell_type": "code",
   "execution_count": 51,
   "metadata": {},
   "outputs": [],
   "source": [
    "optimizer = tf.train.AdamOptimizer(learning_rate=1e-4).minimize(loss, step)\n",
    "# 使用minimize()操作，该操作不仅可以优化更新训练的模型参数，也可以为全局步骤(global step)计数。\n",
    "# 这些训练操作都需要在tf.session会话中进行"
   ]
  },
  {
   "cell_type": "code",
   "execution_count": 52,
   "metadata": {},
   "outputs": [],
   "source": [
    "y_predicted_cls = tf.argmax(y_predicted, axis=1)\n",
    "#比较预测类和真实类\n",
    "correct_prediction = tf.equal(y_predicted_cls, y_actual_cls)\n",
    "#tf.equal(A, B)是对比这两个矩阵或者向量的相等的元素，如果是相等的那就返回True，反正返回False，返回的值的矩阵维度和A是一样的"
   ]
  },
  {
   "cell_type": "code",
   "execution_count": 53,
   "metadata": {},
   "outputs": [
    {
     "name": "stdout",
     "output_type": "stream",
     "text": [
      "[[ True  True  True False False]]\n"
     ]
    }
   ],
   "source": [
    "'''\n",
    "tf.eqyal测试:\n",
    "'''\n",
    "A = [[1,3,4,5,6]]\n",
    "B = [[1,3,4,3,2]]\n",
    " \n",
    "with tf.Session() as sess:\n",
    "    print(sess.run(tf.equal(A, B)))"
   ]
  },
  {
   "cell_type": "code",
   "execution_count": 54,
   "metadata": {},
   "outputs": [],
   "source": [
    "#将boolean值转化为float\n",
    "'''\n",
    "tf.reduce_mean操作，对向量求均值\n",
    "tf.cast(x,y)将x的数据格式转化成y\n",
    "'''\n",
    "model_accuracy = tf.reduce_mean(tf.cast(correct_prediction, tf.float32))"
   ]
  },
  {
   "cell_type": "markdown",
   "metadata": {},
   "source": [
    "接下来，我们需要定义一个将实际执行图形的TensorFlow的session，<br>然后初始化我们在此实现中早先定义的变量:"
   ]
  },
  {
   "cell_type": "code",
   "execution_count": 55,
   "metadata": {},
   "outputs": [],
   "source": [
    "session = tf.Session()\n",
    "session.run(tf.global_variables_initializer())"
   ]
  },
  {
   "cell_type": "markdown",
   "metadata": {},
   "source": [
    "在这个实现中，我们将使用随机梯度下降(SGD)，因此我们需要定义一个函数来从50,000张图像的训练集中随机生成特定大小的批。<br>\n",
    "从而，将再定义一个函数，用于从传输值的输入训练集生成一个<br>\n",
    "#### 成一个随机批进行处理:\n"
   ]
  },
  {
   "cell_type": "markdown",
   "metadata": {},
   "source": [
    "<hr>定义训练批次的大小:"
   ]
  },
  {
   "cell_type": "code",
   "execution_count": 56,
   "metadata": {},
   "outputs": [],
   "source": [
    "training_batch_size = 32"
   ]
  },
  {
   "cell_type": "markdown",
   "metadata": {},
   "source": [
    "定义一个从数据集中随机选择一批图像的函数:"
   ]
  },
  {
   "cell_type": "code",
   "execution_count": 57,
   "metadata": {},
   "outputs": [],
   "source": [
    "def select_random_batch():\n",
    "    # 训练集中的图像数（传输值）\n",
    "    num_imgs = len(transfer_values_training) #第17行代码 所储存的 训练图像的传输值\n",
    "\n",
    "    # 创建一个随机索引.\n",
    "    '''\n",
    "    np.random.choice\n",
    "    \n",
    "    a1 = np.random.choice(a=5, size=3, replace=False, p=None)\n",
    "    参数意思分别 是从a 中以概率P，随机选择3个, p没有指定的时候相当于是一致的分布\n",
    "    replace是是否有放回抽样\n",
    "    '''\n",
    "    ind = np.random.choice(num_imgs,\n",
    "                           size=training_batch_size,\n",
    "                           replace=False)\n",
    "    #使用随机索引去选择一些随机的 X 和 y 的值\n",
    "    #我们用transfer-values代替 图像作为 x-values\n",
    "    x_batch = transfer_values_training[ind]\n",
    "    y_batch = trainig_one_hot_labels[ind]\n",
    "\n",
    "    return x_batch, y_batch"
   ]
  },
  {
   "cell_type": "markdown",
   "metadata": {},
   "source": [
    "接下来，我们需要定义一个函数来执行实际的优化过程，这将优化网络的权重。<br>它将在每次迭代中生成一个批处理，并根据该批处理优化网络:"
   ]
  },
  {
   "cell_type": "code",
   "execution_count": 58,
   "metadata": {},
   "outputs": [],
   "source": [
    "def optimize(num_iterations):\n",
    "    for i in range(num_iterations):\n",
    "        # 随机的选一批图像去训练\n",
    "        # 在input_batch中存储图像传输值\n",
    "        # 其他图像的真实值将会储存在y_actual_batch\n",
    "        input_batch, y_actual_batch = select_random_batch()\n",
    "\n",
    "        # 存储这批数据在一个字典里再给它取一个适当的名字\n",
    "        # 像我们在上面定义且输入的占位符变量\n",
    "        feed_dict = {input_values: input_batch,\n",
    "                     y_actual: y_actual_batch}\n",
    "       \n",
    "\n",
    "        # 现在我们调用这批图像的优化器\n",
    "        # TensorFlow 将自动提供我们上面创建的dict的值\n",
    "        # 在我们上面定义的模型输入占位符变量.\n",
    "        '''\n",
    "        feed_dict的作用是给使用placeholder创建出来的tensor赋值\n",
    "        当我们构建完图后，需要在一个会话中启动图，启动的第一步是创建一个Session对象。\n",
    "\n",
    "        为了取回操作的输出内容, 可以在使用 Session 对象的 run()调用执行图时，传入一些 tensor, 这些 tensor 会帮助你取回结果。\n",
    "        '''\n",
    "        i_global, _ = session.run([step, optimizer],\n",
    "                                  feed_dict=feed_dict)\n",
    "\n",
    "        # 打印每100步的精度\n",
    "        if (i_global % 100 == 0) or (i == num_iterations - 1):\n",
    "            # 计算在training_batch中的精确值.\n",
    "            batch_accuracy = session.run(model_accuracy,\n",
    "                                         feed_dict=feed_dict)\n",
    "\n",
    "            msg = \"Step: {0:>6}, Training Accuracy: {1:>6.1%}\"\n",
    "            print(msg.format(i_global, batch_accuracy))"
   ]
  },
  {
   "cell_type": "code",
   "execution_count": 59,
   "metadata": {},
   "outputs": [
    {
     "name": "stdout",
     "output_type": "stream",
     "text": [
      "Step:      1, Training Accuracy: 10000.0%\n"
     ]
    }
   ],
   "source": [
    "msg = \"Step: {0:>6}, Training Accuracy: {1:>6.1%}\"\n",
    "print(msg.format('1',100))"
   ]
  },
  {
   "cell_type": "markdown",
   "metadata": {},
   "source": [
    "我们将定义一些函数来显示前一个神经网络的结果，并显示预测结果的混淆矩阵:"
   ]
  },
  {
   "cell_type": "code",
   "execution_count": 60,
   "metadata": {},
   "outputs": [],
   "source": [
    "def plot_errors(cls_predicted, cls_correct):\n",
    "    # cls_predicted 是一个数组它里面是测试集中所有图像的预测类\n",
    "\n",
    "    # #cls_correct 是一个具有布尔值的数组，用于指示模型是否预测了正确的类\n",
    "\n",
    "    # 否定布尔数组\n",
    "    incorrect = (cls_correct == False)\n",
    "\n",
    "    # 从测试集中获得图片是False的分类\n",
    "\n",
    "    incorrectly_classified_images = testing_images[incorrect]\n",
    "\n",
    "    # #从那些图片中获得预测类\n",
    "    cls_predicted = cls_predicted[incorrect]\n",
    "\n",
    "    # 从那些图像获得真实的类\n",
    "    true_class = testing_cls_integers[incorrect]\n",
    "\n",
    "    n = min(9, len(incorrectly_classified_images))\n",
    "\n",
    "    # 画第一个 n 图像\n",
    "    plot_imgs(imgs=incorrectly_classified_images[0:n],\n",
    "              true_class=true_class[0:n],\n",
    "              predicted_class=cls_predicted[0:n])"
   ]
  },
  {
   "cell_type": "code",
   "execution_count": 61,
   "metadata": {},
   "outputs": [
    {
     "data": {
      "text/plain": [
       "False"
      ]
     },
     "execution_count": 61,
     "metadata": {},
     "output_type": "execute_result"
    }
   ],
   "source": [
    "([True,True,False,False]== False)\n"
   ]
  },
  {
   "cell_type": "code",
   "execution_count": 62,
   "metadata": {},
   "outputs": [
    {
     "data": {
      "text/plain": [
       "False"
      ]
     },
     "execution_count": 62,
     "metadata": {},
     "output_type": "execute_result"
    }
   ],
   "source": [
    "([True,True,True,True]== True)\n"
   ]
  },
  {
   "cell_type": "markdown",
   "metadata": {},
   "source": [
    "接下来，我们需要定义辅助函数来绘制混淆矩阵:<br>\n",
    "导入绘制混淆矩阵的方法："
   ]
  },
  {
   "cell_type": "code",
   "execution_count": 63,
   "metadata": {},
   "outputs": [],
   "source": [
    "from sklearn.metrics import confusion_matrix"
   ]
  },
  {
   "cell_type": "code",
   "execution_count": 64,
   "metadata": {},
   "outputs": [],
   "source": [
    "def plot_confusionMatrix(cls_predicted):\n",
    "\n",
    " \n",
    "    #在 test 中的所有预测类编号的 cls_predicted 数组\n",
    "    # 从 sklearn 调用混淆矩阵\n",
    "    cm = confusion_matrix(y_true=testing_cls_integers,\n",
    "                          y_pred=cls_predicted)\n",
    "\n",
    "    # 打印混淆矩阵\n",
    "    for i in range(num_classes):\n",
    "        # 将类名附加到每一行\n",
    "        class_name = \"({}) {}\".format(i, class_names[i])\n",
    "        print(cm[i, :], class_name)\n",
    "\n",
    "    # 用类号标记混淆矩阵的每一列\n",
    "    cls_numbers = [\" ({0})\".format(i) for i in range(num_classes)]\n",
    "    print(\"\".join(cls_numbers))"
   ]
  },
  {
   "cell_type": "code",
   "execution_count": 65,
   "metadata": {},
   "outputs": [
    {
     "name": "stdout",
     "output_type": "stream",
     "text": [
      "['(0)', '(1)', '(2)', '(3)', '(4)', '(5)', '(6)', '(7)', '(8)', '(9)']\n",
      "(0)(1)(2)(3)(4)(5)(6)(7)(8)(9)\n"
     ]
    }
   ],
   "source": [
    "'''\n",
    "for循环列表的意义：\n",
    "'''\n",
    "a = ['({})'.format(i) for i in range(10)]\n",
    "print(a)\n",
    "print(\"\".join(a))"
   ]
  },
  {
   "cell_type": "markdown",
   "metadata": {},
   "source": [
    "另外，再定义另一个函数，这个函数将经过训练的分类器应用在测试集上，并测量经过训练的模型应用在测试集上的准确性:"
   ]
  },
  {
   "cell_type": "code",
   "execution_count": 66,
   "metadata": {},
   "outputs": [],
   "source": [
    "#将数据集分批分类，以限制RAM的使用\n",
    "batch_size = 128"
   ]
  },
  {
   "cell_type": "code",
   "execution_count": 67,
   "metadata": {},
   "outputs": [],
   "source": [
    "def predict_class(transferValues, labels, cls_true):\n",
    "    # Number of images.\n",
    "    num_imgs = len(transferValues)\n",
    "\n",
    "    #为预测类分配一个数组，这些类将分批计算并填充到这个数组中\n",
    "    '''\n",
    "    np.zeros返回来一个给定形状和类型的用0填充的数组\n",
    "    '''\n",
    "    cls_predicted = np.zeros(shape=num_imgs, dtype=np.int)\n",
    "\n",
    "    #现在计算批次的预测类，我们将遍历所有批次，\n",
    "\n",
    "    i = 0\n",
    "\n",
    "    while i < num_imgs:\n",
    "        # 下一批结束指标记为j\n",
    "        j = min(i + batch_size, num_imgs)\n",
    "\n",
    "        # 用索引i 和j之间的图像和标签创建一个feed-dict\n",
    "        feed_dict = {input_values: transferValues[i:j],\n",
    "                     y_actual: labels[i:j]}\n",
    "\n",
    "        # 使用TensorFlow计算预测类\n",
    "        cls_predicted[i:j] = session.run(y_predicted_cls, feed_dict=feed_dict)\n",
    "\n",
    "        # 将下一批的开始索引设置为当前批的结束索引\n",
    "        i = j\n",
    "\n",
    "    # 创建一个布尔数组，每一个图像是否正确分类\n",
    "    '''\n",
    "    zip() 函数用于将可迭代的对象作为参数，将对象中对应的元素打包成一个个元组，然后返回由这些元组组成的列表\n",
    "    '''\n",
    "    correct = [a == p for a, p in zip(cls_true, cls_predicted)]\n",
    "\n",
    "\n",
    "    print(type(correct))\n",
    "\n",
    "    return correct, cls_predicted\n"
   ]
  },
  {
   "cell_type": "markdown",
   "metadata": {},
   "source": [
    "调用之前的函数对test做预测:"
   ]
  },
  {
   "cell_type": "code",
   "execution_count": 68,
   "metadata": {},
   "outputs": [],
   "source": [
    "def predict_class_test():\n",
    "    return predict_class(transferValues = transfer_values_testing,\n",
    "                       labels = trainig_one_hot_labels,\n",
    "                       cls_true = training_cls_integers)"
   ]
  },
  {
   "cell_type": "code",
   "execution_count": 69,
   "metadata": {},
   "outputs": [],
   "source": [
    "def classification_accuracy(correct):\n",
    "    #定平均一个布尔数列时，False代表0，True代表1。\n",
    "    #所以我们在计算：True/len(correct) 的个数，这和分类精度是一样的\n",
    "\n",
    "    #返回这个分类精度，和正确分类数量\n",
    "\n",
    "    return np.mean(correct), np.sum(correct)"
   ]
  },
  {
   "cell_type": "code",
   "execution_count": 70,
   "metadata": {},
   "outputs": [],
   "source": [
    "def test_accuracy(show_example_errors=False,\n",
    "                  show_confusion_matrix=False):\n",
    "    #再测试集中的所有数据，计算预测类和是否他们正确\n",
    "    correct, cls_pred = predict_class_test()\n",
    "\n",
    "    print(type(correct))\n",
    "\n",
    "    #分类 accuracy predict_class_test 和正确分类数量\n",
    "    accuracy, num_correct = classification_accuracy(correct)\n",
    "\n",
    "    #正确分类图像的数量\n",
    "    num_images = len(correct)\n",
    "\n",
    "    # Print the accuracy.\n",
    "    msg = \"Test set accuracy: {0:.1%} ({1} / {2})\"\n",
    "    print(msg.format(accuracy, num_correct, num_images))\n",
    "\n",
    "     #画一些mis-classifications的例子，若需要的话\n",
    "    if show_example_errors:\n",
    "        print(\"Example errors:\")\n",
    "        plot_errors(cls_predicted=cls_pred, cls_correct=correct)\n",
    "\n",
    "    #画混淆矩阵，如果需要的话\n",
    "    if show_confusion_matrix:\n",
    "        print(\"Confusion Matrix:\")\n",
    "        plot_confusionMatrix(cls_predicted=cls_pred)"
   ]
  },
  {
   "cell_type": "markdown",
   "metadata": {},
   "source": [
    "在进行任何优化之前，让我们看看前面的神经网络模型的性能:"
   ]
  },
  {
   "cell_type": "code",
   "execution_count": 71,
   "metadata": {},
   "outputs": [
    {
     "name": "stdout",
     "output_type": "stream",
     "text": [
      "<class 'list'>\n",
      "<class 'list'>\n",
      "Test set accuracy: 9.4% (941 / 10000)\n",
      "Example errors:\n"
     ]
    },
    {
     "data": {
      "image/png": "[encoded data removed]",
      "text/plain": [
       "<Figure size 432x288 with 9 Axes>"
      ]
     },
     "metadata": {},
     "output_type": "display_data"
    },
    {
     "name": "stdout",
     "output_type": "stream",
     "text": [
      "Confusion Matrix:\n",
      "[ 19  12  69  90  46 745  18   1   0   0] (0) airplane\n",
      "[ 68   0  97  84  54 678  10   9   0   0] (1) automobile\n",
      "[ 33  30  47 373  53 438  20   6   0   0] (2) bird\n",
      "[ 32  18 151 240  73 474  12   0   0   0] (3) cat\n",
      "[ 21   6  84 403  64 407  14   1   0   0] (4) deer\n",
      "[ 55   8 121 238  89 458  27   0   0   4] (5) dog\n",
      "[ 10   7 149 228  44 526  34   1   0   1] (6) frog\n",
      "[ 13   8  77 287 199 398  15   3   0   0] (7) horse\n",
      "[ 23   1  35  44  34 848   2  13   0   0] (8) ship\n",
      "[ 19   1 266 133  93 483   5   0   0   0] (9) truck\n",
      " (0) (1) (2) (3) (4) (5) (6) (7) (8) (9)\n"
     ]
    }
   ],
   "source": [
    "test_accuracy(show_example_errors=True,\n",
    "                    show_confusion_matrix=True)"
   ]
  },
  {
   "attachments": {},
   "cell_type": "markdown",
   "metadata": {},
   "source": []
  },
  {
   "cell_type": "markdown",
   "metadata": {},
   "source": [
    "<hr>正如你所看到的，网络的性能非常低，但是在基于我们已经定义的优化标准进行一些优化之后，它会变得更好。<br>因此，接下来，我们运行优化器进行1000次迭代，然后测试模型的准确性:"
   ]
  },
  {
   "cell_type": "code",
   "execution_count": 72,
   "metadata": {},
   "outputs": [
    {
     "name": "stdout",
     "output_type": "stream",
     "text": [
      "Step:    100, Training Accuracy:  90.6%\n",
      "Step:    200, Training Accuracy:  84.4%\n",
      "Step:    300, Training Accuracy:  87.5%\n",
      "Step:    400, Training Accuracy:  84.4%\n",
      "Step:    500, Training Accuracy:  93.8%\n",
      "Step:    600, Training Accuracy:  93.8%\n",
      "Step:    700, Training Accuracy:  96.9%\n",
      "Step:    800, Training Accuracy:  84.4%\n",
      "Step:    900, Training Accuracy:  87.5%\n",
      "Step:   1000, Training Accuracy:  90.6%\n"
     ]
    }
   ],
   "source": [
    "optimize(num_iterations=1000)"
   ]
  },
  {
   "cell_type": "code",
   "execution_count": 73,
   "metadata": {
    "scrolled": true
   },
   "outputs": [
    {
     "name": "stdout",
     "output_type": "stream",
     "text": [
      "<class 'list'>\n",
      "<class 'list'>\n",
      "Test set accuracy: 10.2% (1024 / 10000)\n",
      "Example errors:\n"
     ]
    },
    {
     "data": {
      "image/png": "[encoded data removed]",
      "text/plain": [
       "<Figure size 432x288 with 9 Axes>"
      ]
     },
     "metadata": {},
     "output_type": "display_data"
    },
    {
     "name": "stdout",
     "output_type": "stream",
     "text": [
      "Confusion Matrix:\n",
      "[876   9  18   6   4   2   2   3  68  12] (0) airplane\n",
      "[  9 942   1   5   1   1   0   1  12  28] (1) automobile\n",
      "[ 23   1 841  41  42  11  26  11   4   0] (2) bird\n",
      "[  9   0  12 824  19  75  30  17   8   6] (3) cat\n",
      "[ 12   0  28  20 848  11  29  48   3   1] (4) deer\n",
      "[  2   0  12 107  14 828   6  28   2   1] (5) dog\n",
      "[  3   2  18  41  21  10 900   2   3   0] (6) frog\n",
      "[  9   0   5  28  26  25   0 899   6   2] (7) horse\n",
      "[ 25   6   0   3   0   0   0   1 959   6] (8) ship\n",
      "[ 12  64   2   4   0   1   1   3  21 892] (9) truck\n",
      " (0) (1) (2) (3) (4) (5) (6) (7) (8) (9)\n"
     ]
    }
   ],
   "source": [
    "test_accuracy(show_example_errors=True,\n",
    "                    show_confusion_matrix=True)"
   ]
  },
  {
   "cell_type": "code",
   "execution_count": null,
   "metadata": {},
   "outputs": [],
   "source": [
    "model.close()\n",
    "session.close()\n",
    "\n"
   ]
  },
  {
   "cell_type": "code",
   "execution_count": null,
   "metadata": {},
   "outputs": [],
   "source": []
  },
  {
   "cell_type": "code",
   "execution_count": null,
   "metadata": {},
   "outputs": [],
   "source": []
  },
  {
   "cell_type": "code",
   "execution_count": null,
   "metadata": {},
   "outputs": [],
   "source": []
  }
 ],
 "metadata": {
  "kernelspec": {
   "display_name": "Python 3",
   "language": "python",
   "name": "python3"
  },
  "language_info": {
   "codemirror_mode": {
    "name": "ipython",
    "version": 3
   },
   "file_extension": ".py",
   "mimetype": "text/x-python",
   "name": "python",
   "nbconvert_exporter": "python",
   "pygments_lexer": "ipython3",
   "version": "3.5.5"
  }
 },
 "nbformat": 4,
 "nbformat_minor": 2
}
